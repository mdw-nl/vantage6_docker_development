{
 "cells": [
  {
   "cell_type": "markdown",
   "id": "5eccc151",
   "metadata": {},
   "source": [
    "## Quick development demo"
   ]
  },
  {
   "cell_type": "code",
   "execution_count": null,
   "id": "1ee06910",
   "metadata": {},
   "outputs": [],
   "source": [
    "from vantage6.client import Client"
   ]
  },
  {
   "cell_type": "markdown",
   "id": "ee79d4a5",
   "metadata": {},
   "source": [
    "## TODO: Modify vantage6_docker_development to automatically assign Researcher node to test user 'titan'\n",
    "\n",
    "At the moment, you have to do it manually. Log in as root at http://127.0.6.0:8080, go to Users and add Titan the \"Researcher\" role."
   ]
  },
  {
   "cell_type": "code",
   "execution_count": null,
   "id": "edfa1e43",
   "metadata": {},
   "outputs": [],
   "source": [
    "config = {\n",
    "    'server_url': \"http://127.0.6.1\",\n",
    "    'server_port': 80,\n",
    "    'server_api': \"/api\", # This is specified when you first created the server\n",
    "    'username': \"titan\",\n",
    "    'password': \"test-password-cloudy-orbit\",\n",
    "    'organization_key': None,\n",
    "}"
   ]
  },
  {
   "cell_type": "code",
   "execution_count": null,
   "id": "620a1535",
   "metadata": {},
   "outputs": [],
   "source": [
    "# Initialize the client object, and run the authentication\n",
    "client = Client(config['server_url'], config['server_port'], config['server_api'], verbose=True)\n",
    "client.authenticate(config['username'], config['password'])\n",
    "\n",
    "# Optional: setup the encryption, if you have an organization_key\n",
    "client.setup_encryption(config['organization_key'])"
   ]
  },
  {
   "cell_type": "code",
   "execution_count": null,
   "id": "c116a0c4",
   "metadata": {},
   "outputs": [],
   "source": [
    "# List organizations\n",
    "client.organization.list()['data']"
   ]
  },
  {
   "cell_type": "code",
   "execution_count": null,
   "id": "288af634",
   "metadata": {},
   "outputs": [],
   "source": [
    "# List organizations\n",
    "client.organization.list()['data']"
   ]
  },
  {
   "cell_type": "code",
   "execution_count": null,
   "id": "f17e439a",
   "metadata": {},
   "outputs": [],
   "source": [
    "input_ = {'method': 'master',\n",
    "          'kwargs': {'column_name': 'glucose'},\n",
    "          'master': True}\n",
    "\n",
    "average_task = client.task.create(collaboration=1,\n",
    "                                  organizations=[1, 2],\n",
    "                                  name=\"an-awesome-task-mine\",\n",
    "                                  image=\"harbor2.vantage6.ai/demo/average\",\n",
    "                                  description='',\n",
    "                                  input=input_,\n",
    "                                  data_format='json',\n",
    "                                  database='diabetes_csv')"
   ]
  },
  {
   "cell_type": "code",
   "execution_count": null,
   "id": "15766438",
   "metadata": {},
   "outputs": [],
   "source": [
    "import time \n",
    "print(\"Waiting for results\")\n",
    "task_id = average_task['id']\n",
    "task_info = client.task.get(task_id)\n",
    "while not task_info.get(\"complete\"):\n",
    "    task_info = client.task.get(task_id, include_results=True)\n",
    "    print(\"Waiting for results\")\n",
    "    time.sleep(3)\n",
    "\n",
    "print(\"Results are ready!\")"
   ]
  },
  {
   "cell_type": "code",
   "execution_count": null,
   "id": "5b620b96",
   "metadata": {},
   "outputs": [],
   "source": [
    "result_info = client.result.list(task=task_id)\n",
    "result_info['data'][0]['result']"
   ]
  },
  {
   "cell_type": "code",
   "execution_count": null,
   "id": "a3c560a6",
   "metadata": {},
   "outputs": [],
   "source": []
  }
 ],
 "metadata": {
  "kernelspec": {
   "display_name": "Python 3 (ipykernel)",
   "language": "python",
   "name": "python3"
  },
  "language_info": {
   "codemirror_mode": {
    "name": "ipython",
    "version": 3
   },
   "file_extension": ".py",
   "mimetype": "text/x-python",
   "name": "python",
   "nbconvert_exporter": "python",
   "pygments_lexer": "ipython3",
   "version": "3.11.3"
  }
 },
 "nbformat": 4,
 "nbformat_minor": 5
}
